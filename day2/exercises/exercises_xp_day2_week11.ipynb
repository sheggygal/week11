{
  "nbformat": 4,
  "nbformat_minor": 0,
  "metadata": {
    "colab": {
      "provenance": []
    },
    "kernelspec": {
      "name": "python3",
      "display_name": "Python 3"
    },
    "language_info": {
      "name": "python"
    }
  },
  "cells": [
    {
      "cell_type": "code",
      "execution_count": null,
      "metadata": {
        "id": "Lq6IcuQGkfim"
      },
      "outputs": [],
      "source": [
        "import numpy as np"
      ]
    },
    {
      "cell_type": "code",
      "source": [
        "### Exercise 1\n",
        "x = np.arange(10)\n",
        "print(x)"
      ],
      "metadata": {
        "colab": {
          "base_uri": "https://localhost:8080/"
        },
        "id": "K9pfxy-olGMq",
        "outputId": "48f3e6fc-7f35-48bc-c520-4361e63f30b9"
      },
      "execution_count": null,
      "outputs": [
        {
          "output_type": "stream",
          "name": "stdout",
          "text": [
            "[0 1 2 3 4 5 6 7 8 9]\n"
          ]
        }
      ]
    },
    {
      "cell_type": "code",
      "source": [
        "### Exercise 2\n",
        "original_list = [3.14, 2.17, 0, 1, 2]\n",
        "integer_array = np.array(original_list, dtype=int)\n",
        "print(integer_array)"
      ],
      "metadata": {
        "colab": {
          "base_uri": "https://localhost:8080/"
        },
        "id": "wPOTQc2HlVOZ",
        "outputId": "609830e4-336a-4384-88a3-2c9fe3a720db"
      },
      "execution_count": null,
      "outputs": [
        {
          "output_type": "stream",
          "name": "stdout",
          "text": [
            "[3 2 0 1 2]\n"
          ]
        }
      ]
    },
    {
      "cell_type": "code",
      "source": [
        "### Exercise 3\n",
        "array = np.arange(1, 10).reshape((3, 3))\n",
        "print(array)"
      ],
      "metadata": {
        "colab": {
          "base_uri": "https://localhost:8080/"
        },
        "id": "OzTLp-h4l6Jq",
        "outputId": "221c1169-1fe0-4e68-e9b3-8b6e9a0c35b3"
      },
      "execution_count": null,
      "outputs": [
        {
          "output_type": "stream",
          "name": "stdout",
          "text": [
            "[[1 2 3]\n",
            " [4 5 6]\n",
            " [7 8 9]]\n"
          ]
        }
      ]
    },
    {
      "cell_type": "code",
      "source": [
        "### Exercise 4\n",
        "random_array = np.random.rand(4, 5)\n",
        "print(random_array)"
      ],
      "metadata": {
        "colab": {
          "base_uri": "https://localhost:8080/"
        },
        "id": "M2sRw0cJmp1-",
        "outputId": "2253be08-223c-4b48-bef1-10eae6d39d81"
      },
      "execution_count": null,
      "outputs": [
        {
          "output_type": "stream",
          "name": "stdout",
          "text": [
            "[[0.38845945 0.5593714  0.8273398  0.36671086 0.1530878 ]\n",
            " [0.51852448 0.16242068 0.6376295  0.22151207 0.67534829]\n",
            " [0.68016992 0.48972768 0.81236078 0.54857606 0.96060859]\n",
            " [0.09714608 0.73656147 0.69461741 0.41079331 0.31476203]]\n"
          ]
        }
      ]
    },
    {
      "cell_type": "code",
      "source": [
        "### Exercise 5\n",
        "array_2d = np.array([[10, 11, 12, 13, 14],\n",
        "                     [20, 21, 22, 23, 24],\n",
        "                     [30, 31, 32, 33, 34],\n",
        "                     [40, 41, 42, 43, 44]])\n",
        "\n",
        "second_row = array_2d[1]\n",
        "print(second_row)"
      ],
      "metadata": {
        "colab": {
          "base_uri": "https://localhost:8080/"
        },
        "id": "aiYROjk7nJCm",
        "outputId": "0031bd47-8bf6-4ade-d1b1-79697ced1fa7"
      },
      "execution_count": null,
      "outputs": [
        {
          "output_type": "stream",
          "name": "stdout",
          "text": [
            "[20 21 22 23 24]\n"
          ]
        }
      ]
    },
    {
      "cell_type": "code",
      "source": [
        "### Exercise 6\n",
        "array_1d = np.array([0, 1, 2, 3, 4, 5, 6, 7, 8, 9])\n",
        "reversed_array = array_1d[::-1]\n",
        "print(reversed_array)"
      ],
      "metadata": {
        "colab": {
          "base_uri": "https://localhost:8080/"
        },
        "id": "-4vIgM_dnuHS",
        "outputId": "93009f5d-c63a-453d-83de-13875605f251"
      },
      "execution_count": null,
      "outputs": [
        {
          "output_type": "stream",
          "name": "stdout",
          "text": [
            "[9 8 7 6 5 4 3 2 1 0]\n"
          ]
        }
      ]
    },
    {
      "cell_type": "code",
      "source": [
        "### Exercise 7\n",
        "identity_matrix = np.eye(4)\n",
        "print(identity_matrix)"
      ],
      "metadata": {
        "colab": {
          "base_uri": "https://localhost:8080/"
        },
        "id": "naWtCvuPobEb",
        "outputId": "63c9a938-692c-488a-d45d-1c9f2a911afd"
      },
      "execution_count": null,
      "outputs": [
        {
          "output_type": "stream",
          "name": "stdout",
          "text": [
            "[[1. 0. 0. 0.]\n",
            " [0. 1. 0. 0.]\n",
            " [0. 0. 1. 0.]\n",
            " [0. 0. 0. 1.]]\n"
          ]
        }
      ]
    },
    {
      "cell_type": "code",
      "source": [
        "### Exercise 8\n",
        "# Create an array of 10 elements all with value 4.5\n",
        "array = np.full(10, 4.5)\n",
        "\n",
        "# Calculate the sum and average\n",
        "array_sum = np.sum(array)\n",
        "array_avg = np.mean(array)\n",
        "\n",
        "# Print the results\n",
        "print(\"Array:\", array)\n",
        "print(\"Sum:\", array_sum)\n",
        "print(\"Average:\", array_avg)"
      ],
      "metadata": {
        "colab": {
          "base_uri": "https://localhost:8080/"
        },
        "id": "hCo9Rew3uQb7",
        "outputId": "48c9ae30-dd91-49d1-8203-d28457f3bfba"
      },
      "execution_count": 21,
      "outputs": [
        {
          "output_type": "stream",
          "name": "stdout",
          "text": [
            "Array: [4.5 4.5 4.5 4.5 4.5 4.5 4.5 4.5 4.5 4.5]\n",
            "Sum: 45.0\n",
            "Average: 4.5\n"
          ]
        }
      ]
    },
    {
      "cell_type": "code",
      "source": [
        "### Exercise 9\n",
        "one_d_array = np.arange(1, 21).reshape((5, 4))\n",
        "print(one_d_array)"
      ],
      "metadata": {
        "colab": {
          "base_uri": "https://localhost:8080/"
        },
        "id": "ov5gaVEVorot",
        "outputId": "d0b8bd50-86ce-48d6-bcac-2e865eb6eff7"
      },
      "execution_count": null,
      "outputs": [
        {
          "output_type": "stream",
          "name": "stdout",
          "text": [
            "[[ 1  2  3  4]\n",
            " [ 5  6  7  8]\n",
            " [ 9 10 11 12]\n",
            " [13 14 15 16]\n",
            " [17 18 19 20]]\n"
          ]
        }
      ]
    },
    {
      "cell_type": "code",
      "source": [
        "### Exercise 10\n",
        "arr = np.arange(1, 10)\n",
        "# Use boolean indexing to extract odd numbers\n",
        "odd_numbers = arr[arr % 2 != 0]\n",
        "print(odd_numbers)"
      ],
      "metadata": {
        "colab": {
          "base_uri": "https://localhost:8080/"
        },
        "id": "Bb6qUr-AvCQX",
        "outputId": "e0e06ed7-97f4-4376-e033-d8e4fcafae66"
      },
      "execution_count": 23,
      "outputs": [
        {
          "output_type": "stream",
          "name": "stdout",
          "text": [
            "[1 3 5 7 9]\n"
          ]
        }
      ]
    }
  ]
}