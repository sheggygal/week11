{
  "nbformat": 4,
  "nbformat_minor": 0,
  "metadata": {
    "colab": {
      "provenance": []
    },
    "kernelspec": {
      "name": "python3",
      "display_name": "Python 3"
    },
    "language_info": {
      "name": "python"
    }
  },
  "cells": [
    {
      "cell_type": "code",
      "execution_count": 1,
      "metadata": {
        "id": "oyKzV7zQ2A9Y"
      },
      "outputs": [],
      "source": [
        "import numpy as np"
      ]
    },
    {
      "cell_type": "code",
      "source": [
        "### Exercise 1\n",
        "matrix = np.random.rand(5, 5)\n",
        "print(matrix)"
      ],
      "metadata": {
        "colab": {
          "base_uri": "https://localhost:8080/"
        },
        "id": "xZgMGH-42TQ0",
        "outputId": "948625be-e224-4542-bb8f-d5ce9da43d2c"
      },
      "execution_count": 2,
      "outputs": [
        {
          "output_type": "stream",
          "name": "stdout",
          "text": [
            "[[0.90692802 0.82864449 0.97749007 0.07109855 0.0646278 ]\n",
            " [0.46054488 0.4691479  0.33635633 0.4985873  0.72757764]\n",
            " [0.58958447 0.78632502 0.51801965 0.56201627 0.66696866]\n",
            " [0.61288471 0.34058693 0.8904977  0.722955   0.12676958]\n",
            " [0.50697752 0.9106486  0.46180422 0.90174026 0.86343868]]\n"
          ]
        }
      ]
    },
    {
      "cell_type": "code",
      "source": [
        "max_value = np.max(matrix)\n",
        "max_index = np.unravel_index(np.argmax(matrix, axis=None), matrix.shape)\n",
        "matrix[max_index] = 0\n",
        "print(matrix)"
      ],
      "metadata": {
        "colab": {
          "base_uri": "https://localhost:8080/"
        },
        "id": "F2DvWLhA2ayb",
        "outputId": "bfe839af-e369-476d-9845-1b71bdde72a0"
      },
      "execution_count": 3,
      "outputs": [
        {
          "output_type": "stream",
          "name": "stdout",
          "text": [
            "[[0.90692802 0.82864449 0.         0.07109855 0.0646278 ]\n",
            " [0.46054488 0.4691479  0.33635633 0.4985873  0.72757764]\n",
            " [0.58958447 0.78632502 0.51801965 0.56201627 0.66696866]\n",
            " [0.61288471 0.34058693 0.8904977  0.722955   0.12676958]\n",
            " [0.50697752 0.9106486  0.46180422 0.90174026 0.86343868]]\n"
          ]
        }
      ]
    },
    {
      "cell_type": "code",
      "source": [
        "### Exercise 2\n",
        "array1 = np.random.randint(0, 10, 5)\n",
        "array2 = np.random.randint(0, 10, 5)\n",
        "print(array1)\n",
        "print(array2)"
      ],
      "metadata": {
        "colab": {
          "base_uri": "https://localhost:8080/"
        },
        "id": "hnUi9qDc2rUq",
        "outputId": "8b03d795-e583-4aa5-b48b-005cd408dea8"
      },
      "execution_count": 5,
      "outputs": [
        {
          "output_type": "stream",
          "name": "stdout",
          "text": [
            "[4 9 2 2 3]\n",
            "[7 2 8 4 7]\n"
          ]
        }
      ]
    },
    {
      "cell_type": "code",
      "source": [
        "common_values = np.intersect1d(array1, array2)\n",
        "print(common_values)"
      ],
      "metadata": {
        "colab": {
          "base_uri": "https://localhost:8080/"
        },
        "id": "suRvrEj825Gl",
        "outputId": "fa02c393-06ac-4490-db9b-e770bbd1027c"
      },
      "execution_count": 6,
      "outputs": [
        {
          "output_type": "stream",
          "name": "stdout",
          "text": [
            "[2 4]\n"
          ]
        }
      ]
    },
    {
      "cell_type": "code",
      "source": [
        "### Exercise 3\n",
        "array = np.random.randint(0, 100, 10)\n",
        "print(array)\n",
        "\n",
        "array_sorted_asc = np.sort(array)\n",
        "print(array_sorted_asc)\n",
        "\n",
        "array_sorted_desc = np.sort(array)[::-1]\n",
        "print(array_sorted_desc)"
      ],
      "metadata": {
        "colab": {
          "base_uri": "https://localhost:8080/"
        },
        "id": "gTIShpY52_JZ",
        "outputId": "a190c2fd-1315-4714-fa46-55182fbaa458"
      },
      "execution_count": 7,
      "outputs": [
        {
          "output_type": "stream",
          "name": "stdout",
          "text": [
            "[86 57 43 61 98 14 96 46 35 66]\n",
            "[14 35 43 46 57 61 66 86 96 98]\n",
            "[98 96 86 66 61 57 46 43 35 14]\n"
          ]
        }
      ]
    },
    {
      "cell_type": "code",
      "source": [
        "### Exercise 4\n",
        "matrix = np.random.rand(4, 4)\n",
        "print(matrix)\n",
        "\n",
        "rank = np.linalg.matrix_rank(matrix)\n",
        "print(rank)"
      ],
      "metadata": {
        "colab": {
          "base_uri": "https://localhost:8080/"
        },
        "id": "WbguNa0R3V-A",
        "outputId": "684416dc-c862-465d-ccf0-cb0c89e08bc4"
      },
      "execution_count": 8,
      "outputs": [
        {
          "output_type": "stream",
          "name": "stdout",
          "text": [
            "[[0.68812821 0.98620723 0.38812141 0.59828108]\n",
            " [0.58518278 0.23314259 0.52256257 0.00283918]\n",
            " [0.20923027 0.35277283 0.7139935  0.45193458]\n",
            " [0.67463043 0.0425452  0.22453575 0.52736194]]\n",
            "4\n"
          ]
        }
      ]
    },
    {
      "cell_type": "code",
      "source": [
        "### Exercise 5\n",
        "# Define the dimensions of the desired array\n",
        "rows, cols = 5, 5\n",
        "\n",
        "# Create an empty 2D array filled with zeros\n",
        "array = np.zeros((rows, cols))\n",
        "\n",
        "# Fill the border with 1s\n",
        "array[0, :] = 1   # Top row\n",
        "array[-1, :] = 1  # Bottom row\n",
        "array[:, 0] = 1   # Left column\n",
        "array[:, -1] = 1  # Right column\n",
        "\n",
        "print(array)"
      ],
      "metadata": {
        "colab": {
          "base_uri": "https://localhost:8080/"
        },
        "id": "LRQt5ORJ31G_",
        "outputId": "e533ab4c-f1c6-4157-90af-8856ccc5b4b4"
      },
      "execution_count": 9,
      "outputs": [
        {
          "output_type": "stream",
          "name": "stdout",
          "text": [
            "[[1. 1. 1. 1. 1.]\n",
            " [1. 0. 0. 0. 1.]\n",
            " [1. 0. 0. 0. 1.]\n",
            " [1. 0. 0. 0. 1.]\n",
            " [1. 1. 1. 1. 1.]]\n"
          ]
        }
      ]
    }
  ]
}