{
  "nbformat": 4,
  "nbformat_minor": 0,
  "metadata": {
    "colab": {
      "provenance": []
    },
    "kernelspec": {
      "name": "python3",
      "display_name": "Python 3"
    },
    "language_info": {
      "name": "python"
    }
  },
  "cells": [
    {
      "cell_type": "code",
      "execution_count": 5,
      "metadata": {
        "id": "jM5-mF-o71MU"
      },
      "outputs": [],
      "source": [
        "import numpy as np\n",
        "import pandas as pd"
      ]
    },
    {
      "cell_type": "code",
      "source": [
        "### Exercise 1\n",
        "# Define a 3x3 matrix with random integers between 0 and 9\n",
        "A = np.random.randint(0, 10, (3, 3))\n",
        "\n",
        "# Print the matrix\n",
        "print(\"Matrix A:\\n\", A)\n",
        "\n",
        "# Calculate the determinant\n",
        "det_A = np.linalg.det(A)\n",
        "\n",
        "# Find the inverse of the matrix if the determinant is non-zero\n",
        "if det_A != 0:\n",
        "    inv_A = np.linalg.inv(A)\n",
        "    print(\"Determinant of A is:\", det_A)\n",
        "    print(\"Inverse of A is:\\n\", inv_A)\n",
        "else:\n",
        "    print(\"The matrix is singular and does not have an inverse.\")"
      ],
      "metadata": {
        "colab": {
          "base_uri": "https://localhost:8080/"
        },
        "id": "7jQlcboU8hzD",
        "outputId": "a5a343a3-7360-4ab7-8359-2f1b08b2fa45"
      },
      "execution_count": 2,
      "outputs": [
        {
          "output_type": "stream",
          "name": "stdout",
          "text": [
            "Matrix A:\n",
            " [[1 9 7]\n",
            " [2 9 0]\n",
            " [8 1 3]]\n",
            "Determinant of A is: -517.0\n",
            "Inverse of A is:\n",
            " [[-0.05222437  0.03868472  0.12185687]\n",
            " [ 0.01160542  0.10251451 -0.0270793 ]\n",
            " [ 0.13539652 -0.13733075  0.01740812]]\n"
          ]
        }
      ]
    },
    {
      "cell_type": "code",
      "source": [
        "### Exercise 2\n",
        "# Generate an array of 50 random numbers\n",
        "data = np.random.randn(50)  # Using the standard normal distribution for random numbers\n",
        "\n",
        "# Calculate the mean\n",
        "mean = np.mean(data)\n",
        "\n",
        "# Calculate the median\n",
        "median = np.median(data)\n",
        "\n",
        "# Calculate the standard deviation\n",
        "std_dev = np.std(data)\n",
        "\n",
        "# Print the results\n",
        "print(\"Data:\\n\", data)\n",
        "print(\"Mean:\", mean)\n",
        "print(\"Median:\", median)\n",
        "print(\"Standard Deviation:\", std_dev)"
      ],
      "metadata": {
        "colab": {
          "base_uri": "https://localhost:8080/"
        },
        "id": "UA8844Qx8yv2",
        "outputId": "75addbda-c2f8-4e79-accd-e50b6e798ce8"
      },
      "execution_count": 3,
      "outputs": [
        {
          "output_type": "stream",
          "name": "stdout",
          "text": [
            "Data:\n",
            " [ 0.26619568 -1.21081302  0.98631743  1.42423765 -0.32149117  0.6154909\n",
            "  1.57872295 -1.73574545 -0.45995656  1.03919745  0.12119381  0.95293559\n",
            "  0.70961508  0.28059684 -2.304718   -1.50126758  1.64391976 -0.32975386\n",
            "  2.52508148 -0.11390606 -0.686865    0.49929379  0.12104438 -1.67268535\n",
            "  1.1929046  -0.45186295 -0.895666   -0.42242688  0.6354469  -0.52618338\n",
            " -0.6287947  -1.19435495 -1.71883168  1.17765693  1.0491173   0.95370475\n",
            "  0.6853694  -0.90912058 -1.35902212  1.23157038 -1.14316289 -0.40050611\n",
            " -1.01269314  1.0202168   0.72511558 -1.18925709  1.9606717  -0.53506882\n",
            " -1.08792776  0.13901629]\n",
            "Mean: -0.005548953120512183\n",
            "Median: 0.00356916073706625\n",
            "Standard Deviation: 1.1004445586979894\n"
          ]
        }
      ]
    },
    {
      "cell_type": "code",
      "source": [
        "### Exercise 3\n",
        "# Create a NumPy array of dates for January 2023\n",
        "dates = np.arange('2023-01-01', '2023-02-01', dtype='datetime64[D]')\n",
        "\n",
        "# Convert the dates to the desired format (YYYY/MM/DD)\n",
        "formatted_dates = np.array([date.astype('datetime64[D]').astype(str).replace('-', '/') for date in dates])\n",
        "\n",
        "# Print the original and formatted dates\n",
        "print(\"Original Dates:\\n\", dates)\n",
        "print(\"\\nFormatted Dates:\\n\", formatted_dates)"
      ],
      "metadata": {
        "colab": {
          "base_uri": "https://localhost:8080/"
        },
        "id": "9HthXc859UtH",
        "outputId": "c09f064e-8e3e-4ec8-9f2d-010c202ccd7c"
      },
      "execution_count": 4,
      "outputs": [
        {
          "output_type": "stream",
          "name": "stdout",
          "text": [
            "Original Dates:\n",
            " ['2023-01-01' '2023-01-02' '2023-01-03' '2023-01-04' '2023-01-05'\n",
            " '2023-01-06' '2023-01-07' '2023-01-08' '2023-01-09' '2023-01-10'\n",
            " '2023-01-11' '2023-01-12' '2023-01-13' '2023-01-14' '2023-01-15'\n",
            " '2023-01-16' '2023-01-17' '2023-01-18' '2023-01-19' '2023-01-20'\n",
            " '2023-01-21' '2023-01-22' '2023-01-23' '2023-01-24' '2023-01-25'\n",
            " '2023-01-26' '2023-01-27' '2023-01-28' '2023-01-29' '2023-01-30'\n",
            " '2023-01-31']\n",
            "\n",
            "Formatted Dates:\n",
            " ['2023/01/01' '2023/01/02' '2023/01/03' '2023/01/04' '2023/01/05'\n",
            " '2023/01/06' '2023/01/07' '2023/01/08' '2023/01/09' '2023/01/10'\n",
            " '2023/01/11' '2023/01/12' '2023/01/13' '2023/01/14' '2023/01/15'\n",
            " '2023/01/16' '2023/01/17' '2023/01/18' '2023/01/19' '2023/01/20'\n",
            " '2023/01/21' '2023/01/22' '2023/01/23' '2023/01/24' '2023/01/25'\n",
            " '2023/01/26' '2023/01/27' '2023/01/28' '2023/01/29' '2023/01/30'\n",
            " '2023/01/31']\n"
          ]
        }
      ]
    },
    {
      "cell_type": "code",
      "source": [
        "### Exercise 4\n",
        "# Create a DataFrame with random numbers\n",
        "np.random.seed(42)  # For reproducibility\n",
        "data = np.random.randn(10, 4)  # 10 rows and 4 columns of random numbers\n",
        "df = pd.DataFrame(data, columns=['A', 'B', 'C', 'D'])\n",
        "\n",
        "# Print the DataFrame\n",
        "print(\"DataFrame:\\n\", df)\n",
        "\n",
        "# Conditional selection of data: Select rows where column 'A' is greater than 0\n",
        "conditional_selection = df[df['A'] > 0]\n",
        "print(\"\\nRows where column 'A' > 0:\\n\", conditional_selection)\n",
        "\n",
        "# Aggregation functions: sum and average\n",
        "sum_values = df.sum()\n",
        "mean_values = df.mean()\n",
        "\n",
        "print(\"\\nSum of each column:\\n\", sum_values)\n",
        "print(\"\\nMean of each column:\\n\", mean_values)"
      ],
      "metadata": {
        "colab": {
          "base_uri": "https://localhost:8080/"
        },
        "id": "WnycoSCO_Klt",
        "outputId": "4ec2b03b-2e76-4ff3-8f5f-96fe849dc0b6"
      },
      "execution_count": 6,
      "outputs": [
        {
          "output_type": "stream",
          "name": "stdout",
          "text": [
            "DataFrame:\n",
            "           A         B         C         D\n",
            "0  0.496714 -0.138264  0.647689  1.523030\n",
            "1 -0.234153 -0.234137  1.579213  0.767435\n",
            "2 -0.469474  0.542560 -0.463418 -0.465730\n",
            "3  0.241962 -1.913280 -1.724918 -0.562288\n",
            "4 -1.012831  0.314247 -0.908024 -1.412304\n",
            "5  1.465649 -0.225776  0.067528 -1.424748\n",
            "6 -0.544383  0.110923 -1.150994  0.375698\n",
            "7 -0.600639 -0.291694 -0.601707  1.852278\n",
            "8 -0.013497 -1.057711  0.822545 -1.220844\n",
            "9  0.208864 -1.959670 -1.328186  0.196861\n",
            "\n",
            "Rows where column 'A' > 0:\n",
            "           A         B         C         D\n",
            "0  0.496714 -0.138264  0.647689  1.523030\n",
            "3  0.241962 -1.913280 -1.724918 -0.562288\n",
            "5  1.465649 -0.225776  0.067528 -1.424748\n",
            "9  0.208864 -1.959670 -1.328186  0.196861\n",
            "\n",
            "Sum of each column:\n",
            " A   -0.461789\n",
            "B   -4.852803\n",
            "C   -3.060271\n",
            "D   -0.370611\n",
            "dtype: float64\n",
            "\n",
            "Mean of each column:\n",
            " A   -0.046179\n",
            "B   -0.485280\n",
            "C   -0.306027\n",
            "D   -0.037061\n",
            "dtype: float64\n"
          ]
        }
      ]
    },
    {
      "cell_type": "code",
      "source": [
        "### Exercise 5\n",
        "import matplotlib.pyplot as plt\n",
        "\n",
        "# Create a 5x5 grayscale image (values between 0 and 255)\n",
        "grayscale_image = np.array([\n",
        "    [  0,  50, 100, 150, 200],\n",
        "    [ 25,  75, 125, 175, 225],\n",
        "    [ 50, 100, 150, 200, 250],\n",
        "    [ 75, 125, 175, 225,  25],\n",
        "    [100, 150, 200, 250,  50]\n",
        "], dtype=np.uint8)\n",
        "\n",
        "# Display the image using matplotlib\n",
        "plt.imshow(grayscale_image, cmap='gray', vmin=0, vmax=255)\n",
        "plt.colorbar()\n",
        "plt.title(\"5x5 Grayscale Image\")\n",
        "plt.show()"
      ],
      "metadata": {
        "colab": {
          "base_uri": "https://localhost:8080/",
          "height": 452
        },
        "id": "-i3hUjJl_0lP",
        "outputId": "ad176476-c30e-41ed-fe18-3ef2c664921a"
      },
      "execution_count": 7,
      "outputs": [
        {
          "output_type": "display_data",
          "data": {
            "text/plain": [
              "<Figure size 640x480 with 2 Axes>"
            ],
            "image/png": "[encoded data removed]"
          },
          "metadata": {}
        }
      ]
    },
    {
      "cell_type": "markdown",
      "source": [
        "Images are commonly represented in NumPy arrays as multi-dimensional arrays. For example, a grayscale image can be represented as a 2D array where each element corresponds to a pixel intensity value, while a color image (e.g., RGB) can be represented as a 3D array with dimensions corresponding to the height, width, and color channels.\n",
        "\n",
        "In a grayscale image:\n",
        "\n",
        "Each pixel's intensity is represented by a single value, typically ranging from 0 (black) to 255 (white).\n",
        "In an RGB color image:\n",
        "\n",
        "Each pixel's color is represented by three values corresponding to the red, green, and blue channels, typically ranging from 0 to 255."
      ],
      "metadata": {
        "id": "BMUJR5oaACsq"
      }
    },
    {
      "cell_type": "code",
      "source": [
        "### Exercise 6\n",
        "from scipy import stats\n",
        "\n",
        "# Set random seed for reproducibility\n",
        "np.random.seed(42)\n",
        "\n",
        "# Productivity scores of employees before the training program\n",
        "productivity_before = np.random.normal(loc=50, scale=10, size=30)\n",
        "\n",
        "# Productivity scores of the same employees after the training program\n",
        "productivity_after = productivity_before + np.random.normal(loc=5, scale=3, size=30)\n",
        "\n",
        "# Calculate the difference in productivity scores\n",
        "differences = productivity_after - productivity_before\n",
        "\n",
        "# Calculate the mean and standard deviation of the differences\n",
        "mean_diff = np.mean(differences)\n",
        "std_diff = np.std(differences, ddof=1)  # ddof=1 to get the sample standard deviation\n",
        "\n",
        "# Conduct a one-sample t-test to test the null hypothesis that the mean difference is zero\n",
        "t_stat, p_value = stats.ttest_1samp(differences, 0)\n",
        "\n",
        "# Print the results\n",
        "print(\"Productivity scores before training:\\n\", productivity_before)\n",
        "print(\"\\nProductivity scores after training:\\n\", productivity_after)\n",
        "print(\"\\nDifferences in productivity scores:\\n\", differences)\n",
        "print(\"\\nMean difference:\", mean_diff)\n",
        "print(\"Standard deviation of the differences:\", std_diff)\n",
        "print(\"\\nT-statistic:\", t_stat)\n",
        "print(\"P-value:\", p_value)\n",
        "\n",
        "# Interpretation of the results\n",
        "alpha = 0.05  # Significance level\n",
        "if p_value < alpha:\n",
        "    print(\"\\nReject the null hypothesis: The training program has a significant positive effect on employee productivity.\")\n",
        "else:\n",
        "    print(\"\\nFail to reject the null hypothesis: There is no significant evidence that the training program has an effect on employee productivity.\")"
      ],
      "metadata": {
        "colab": {
          "base_uri": "https://localhost:8080/"
        },
        "id": "xFRL-Wx1AWRM",
        "outputId": "fd230920-8f33-44ab-8367-411c92576f3e"
      },
      "execution_count": 8,
      "outputs": [
        {
          "output_type": "stream",
          "name": "stdout",
          "text": [
            "Productivity scores before training:\n",
            " [54.96714153 48.61735699 56.47688538 65.23029856 47.65846625 47.65863043\n",
            " 65.79212816 57.67434729 45.30525614 55.42560044 45.36582307 45.34270246\n",
            " 52.41962272 30.86719755 32.75082167 44.37712471 39.8716888  53.14247333\n",
            " 40.91975924 35.87696299 64.65648769 47.742237   50.67528205 35.75251814\n",
            " 44.55617275 51.1092259  38.49006423 53.75698018 43.9936131  47.0830625 ]\n",
            "\n",
            "Productivity scores after training:\n",
            " [58.16202169 59.17419154 61.43639371 67.05716578 55.12610099 48.99609948\n",
            " 71.41871894 56.79533692 46.32069799 61.01618414 52.58122281 50.85680731\n",
            " 57.07267787 34.96388647 33.3152557  47.21759208 43.48977248 61.31384\n",
            " 46.95061411 35.58784252 70.6287396  51.58699015 53.64451605 42.587547\n",
            " 52.64917132 58.90306625 40.97241166 57.82934306 49.9874034  55.00969788]\n",
            "\n",
            "Differences in productivity scores:\n",
            " [ 3.19488016 10.55683455  4.95950833  1.82686721  7.46763474  1.33746905\n",
            "  5.62659079 -0.87901037  1.01544185  5.59058371  7.21539974  5.51410484\n",
            "  4.65305515  4.09668891  0.56443403  2.84046737  3.61808369  8.17136668\n",
            "  6.03085487 -0.28912047  5.97225191  3.84475316  2.969234    6.83502887\n",
            "  8.09299857  7.79384036  2.48234743  4.07236287  5.99379029  7.92663538]\n",
            "\n",
            "Mean difference: 4.636512589130173\n",
            "Standard deviation of the differences: 2.793306593483382\n",
            "\n",
            "T-statistic: 9.091456480816795\n",
            "P-value: 5.471059881900939e-10\n",
            "\n",
            "Reject the null hypothesis: The training program has a significant positive effect on employee productivity.\n"
          ]
        }
      ]
    },
    {
      "cell_type": "code",
      "source": [
        "### Exercise 7\n",
        "# Create two arrays with random integers\n",
        "array1 = np.random.randint(0, 10, size=10)\n",
        "array2 = np.random.randint(0, 10, size=10)\n",
        "\n",
        "# Perform element-wise comparison\n",
        "comparison_result = array1 > array2\n",
        "\n",
        "# Print the arrays and the comparison result\n",
        "print(\"Array 1:\", array1)\n",
        "print(\"Array 2:\", array2)\n",
        "print(\"Element-wise comparison (Array 1 > Array 2):\", comparison_result)"
      ],
      "metadata": {
        "colab": {
          "base_uri": "https://localhost:8080/"
        },
        "id": "gfIDmOoLA0QH",
        "outputId": "a9166097-0e07-41d8-802a-963b02f524cf"
      },
      "execution_count": 9,
      "outputs": [
        {
          "output_type": "stream",
          "name": "stdout",
          "text": [
            "Array 1: [1 0 6 6 7 4 2 7 5 2]\n",
            "Array 2: [0 2 4 2 0 4 9 6 6 8]\n",
            "Element-wise comparison (Array 1 > Array 2): [ True False  True  True  True False False  True False False]\n"
          ]
        }
      ]
    },
    {
      "cell_type": "code",
      "source": [
        "### Exercise 8\n",
        "# Generate a date range for the year 2023\n",
        "date_range = pd.date_range(start='2023-01-01', end='2023-12-31', freq='D')\n",
        "\n",
        "# Generate random time series data for each day in 2023\n",
        "np.random.seed(42)  # For reproducibility\n",
        "data = np.random.randn(len(date_range))\n",
        "\n",
        "# Create a pandas DataFrame with the date range and the generated data\n",
        "time_series = pd.DataFrame(data, index=date_range, columns=['Value'])\n",
        "\n",
        "# Print the first few rows of the DataFrame\n",
        "print(\"Time Series Data:\\n\", time_series.head())\n",
        "\n",
        "# Slicing the time series data for different intervals\n",
        "jan_to_mar = time_series['2023-01-01':'2023-03-31']\n",
        "apr_to_jun = time_series['2023-04-01':'2023-06-30']\n",
        "jul_to_sep = time_series['2023-07-01':'2023-09-30']\n",
        "oct_to_dec = time_series['2023-10-01':'2023-12-31']\n",
        "\n",
        "# Print the sliced data\n",
        "print(\"\\nJanuary to March:\\n\", jan_to_mar)\n",
        "print(\"\\nApril to June:\\n\", apr_to_jun)\n",
        "print(\"\\nJuly to September:\\n\", jul_to_sep)\n",
        "print(\"\\nOctober to December:\\n\", oct_to_dec)\n"
      ],
      "metadata": {
        "colab": {
          "base_uri": "https://localhost:8080/"
        },
        "id": "99GGRMJ_BEkQ",
        "outputId": "f73e113b-5ea9-4807-bfab-f42a655373c9"
      },
      "execution_count": 10,
      "outputs": [
        {
          "output_type": "stream",
          "name": "stdout",
          "text": [
            "Time Series Data:\n",
            "                Value\n",
            "2023-01-01  0.496714\n",
            "2023-01-02 -0.138264\n",
            "2023-01-03  0.647689\n",
            "2023-01-04  1.523030\n",
            "2023-01-05 -0.234153\n",
            "\n",
            "January to March:\n",
            "                Value\n",
            "2023-01-01  0.496714\n",
            "2023-01-02 -0.138264\n",
            "2023-01-03  0.647689\n",
            "2023-01-04  1.523030\n",
            "2023-01-05 -0.234153\n",
            "...              ...\n",
            "2023-03-27 -0.501757\n",
            "2023-03-28  0.915402\n",
            "2023-03-29  0.328751\n",
            "2023-03-30 -0.529760\n",
            "2023-03-31  0.513267\n",
            "\n",
            "[90 rows x 1 columns]\n",
            "\n",
            "April to June:\n",
            "                Value\n",
            "2023-04-01  0.097078\n",
            "2023-04-02  0.968645\n",
            "2023-04-03 -0.702053\n",
            "2023-04-04 -0.327662\n",
            "2023-04-05 -0.392108\n",
            "...              ...\n",
            "2023-06-26  0.013002\n",
            "2023-06-27  1.453534\n",
            "2023-06-28 -0.264657\n",
            "2023-06-29  2.720169\n",
            "2023-06-30  0.625667\n",
            "\n",
            "[91 rows x 1 columns]\n",
            "\n",
            "July to September:\n",
            "                Value\n",
            "2023-07-01 -0.857158\n",
            "2023-07-02 -1.070892\n",
            "2023-07-03  0.482472\n",
            "2023-07-04 -0.223463\n",
            "2023-07-05  0.714000\n",
            "...              ...\n",
            "2023-09-26 -0.440044\n",
            "2023-09-27  0.130741\n",
            "2023-09-28  1.441273\n",
            "2023-09-29 -1.435862\n",
            "2023-09-30  1.163164\n",
            "\n",
            "[92 rows x 1 columns]\n",
            "\n",
            "October to December:\n",
            "                Value\n",
            "2023-10-01  0.010233\n",
            "2023-10-02 -0.981509\n",
            "2023-10-03  0.462103\n",
            "2023-10-04  0.199060\n",
            "2023-10-05 -0.600217\n",
            "...              ...\n",
            "2023-12-27  0.519347\n",
            "2023-12-28  1.532739\n",
            "2023-12-29 -0.108760\n",
            "2023-12-30  0.401712\n",
            "2023-12-31  0.690144\n",
            "\n",
            "[92 rows x 1 columns]\n"
          ]
        }
      ]
    },
    {
      "cell_type": "code",
      "source": [
        "### Exercise 9\n",
        "# Create a NumPy array\n",
        "np_array = np.array([[1, 2, 3], [4, 5, 6]])\n",
        "\n",
        "# Convert NumPy array to Pandas DataFrame\n",
        "df = pd.DataFrame(np_array, columns=['A', 'B', 'C'])\n",
        "\n",
        "print(\"NumPy Array:\")\n",
        "print(np_array)\n",
        "print(\"\\nPandas DataFrame:\")\n",
        "print(df)"
      ],
      "metadata": {
        "colab": {
          "base_uri": "https://localhost:8080/"
        },
        "id": "DKSXhzHWBqZw",
        "outputId": "bd4f38bd-6218-4655-b79c-cd2c61f5b9fd"
      },
      "execution_count": 11,
      "outputs": [
        {
          "output_type": "stream",
          "name": "stdout",
          "text": [
            "NumPy Array:\n",
            "[[1 2 3]\n",
            " [4 5 6]]\n",
            "\n",
            "Pandas DataFrame:\n",
            "   A  B  C\n",
            "0  1  2  3\n",
            "1  4  5  6\n"
          ]
        }
      ]
    },
    {
      "cell_type": "code",
      "source": [
        "### Exercise 10\n",
        "import matplotlib.pyplot as plt\n",
        "\n",
        "# Generate some random data\n",
        "x = np.linspace(0, 10, 100)  # 100 points from 0 to 10\n",
        "y = np.sin(x)  # Example function, could be any data\n",
        "\n",
        "# Plotting\n",
        "plt.figure(figsize=(8, 6))  # Optional: set the figure size\n",
        "\n",
        "plt.plot(x, y, label='sin(x)')  # Plotting the data\n",
        "plt.title('Simple Line Plot')  # Adding a title\n",
        "plt.xlabel('x')  # Label for x-axis\n",
        "plt.ylabel('sin(x)')  # Label for y-axis\n",
        "plt.legend()  # Show legend\n",
        "\n",
        "plt.grid(True)  # Optional: show grid\n",
        "\n",
        "plt.show()  # Display the plot"
      ],
      "metadata": {
        "colab": {
          "base_uri": "https://localhost:8080/",
          "height": 564
        },
        "id": "6rBdcKOnB6Nn",
        "outputId": "7e72eb3e-6a65-4026-d566-0f593ea9c1d8"
      },
      "execution_count": 12,
      "outputs": [
        {
          "output_type": "display_data",
          "data": {
            "text/plain": [
              "<Figure size 800x600 with 1 Axes>"
            ],
            "image/png": "[encoded data removed]"
          },
          "metadata": {}
        }
      ]
    }
  ]
}