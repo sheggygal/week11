{
  "nbformat": 4,
  "nbformat_minor": 0,
  "metadata": {
    "colab": {
      "provenance": []
    },
    "kernelspec": {
      "name": "python3",
      "display_name": "Python 3"
    },
    "language_info": {
      "name": "python"
    }
  },
  "cells": [
    {
      "cell_type": "code",
      "source": [
        "import numpy as np"
      ],
      "metadata": {
        "id": "3kb2yrO0zlam"
      },
      "execution_count": 1,
      "outputs": []
    },
    {
      "cell_type": "code",
      "execution_count": 2,
      "metadata": {
        "colab": {
          "base_uri": "https://localhost:8080/"
        },
        "id": "FiA1Z-2QvxuX",
        "outputId": "8f3d92fe-5889-4d62-dde7-730362f3f2e8"
      },
      "outputs": [
        {
          "output_type": "stream",
          "name": "stdout",
          "text": [
            "[[0.15908839 0.05484073 0.76353054 0.34508999 0.71939057]\n",
            " [0.09805855 0.37202737 0.42790382 0.69658656 0.19340647]\n",
            " [0.16278234 0.55899099 0.4845395  0.38212816 0.24523363]\n",
            " [0.56184509 0.62068564 0.2889474  0.45115112 0.81640848]\n",
            " [0.12854766 0.27071195 0.23232693 0.64972041 0.17216346]]\n"
          ]
        }
      ],
      "source": [
        "### Exercise 1\n",
        "array = np.random.rand(5, 5)\n",
        "print(array)"
      ]
    },
    {
      "cell_type": "code",
      "source": [
        "min_value = np.min(array)\n",
        "max_value = np.max(array)\n",
        "\n",
        "print(min_value)\n",
        "print(max_value)"
      ],
      "metadata": {
        "colab": {
          "base_uri": "https://localhost:8080/"
        },
        "id": "a7_5Lt5Gzutb",
        "outputId": "f887fff8-9d4a-4b4a-95a9-7a503424ef1a"
      },
      "execution_count": 3,
      "outputs": [
        {
          "output_type": "stream",
          "name": "stdout",
          "text": [
            "0.054840725664169865\n",
            "0.816408475492944\n"
          ]
        }
      ]
    },
    {
      "cell_type": "code",
      "source": [
        "### Exercise 2\n",
        "matrix = np.random.rand(3, 3)\n",
        "print(matrix)\n",
        "\n",
        "mean = np.mean(matrix)\n",
        "std_dev = np.std(matrix)\n",
        "\n",
        "normalized_matrix = (matrix - mean) / std_dev\n",
        "print(normalized_matrix)"
      ],
      "metadata": {
        "colab": {
          "base_uri": "https://localhost:8080/"
        },
        "id": "LIL3HJoRz2yG",
        "outputId": "297315b4-370a-4c98-e4e7-f1dec1d5f387"
      },
      "execution_count": 4,
      "outputs": [
        {
          "output_type": "stream",
          "name": "stdout",
          "text": [
            "[[0.66576742 0.34880717 0.12460755]\n",
            " [0.04540878 0.35371084 0.52937991]\n",
            " [0.76675896 0.91098742 0.3497738 ]]\n",
            "[[ 0.77552573 -0.39086415 -1.21590192]\n",
            " [-1.50734743 -0.37281902  0.27362994]\n",
            " [ 1.147167    1.67791688 -0.38730703]]\n"
          ]
        }
      ]
    },
    {
      "cell_type": "code",
      "source": [
        "### Exercise 3\n",
        "array = np.linspace(0, 10, 50, endpoint=False)\n",
        "print(array)"
      ],
      "metadata": {
        "colab": {
          "base_uri": "https://localhost:8080/"
        },
        "id": "TOCAEwkI0Lsd",
        "outputId": "965b78cd-2723-4550-df4a-60cfb9fc8be4"
      },
      "execution_count": 5,
      "outputs": [
        {
          "output_type": "stream",
          "name": "stdout",
          "text": [
            "[0.  0.2 0.4 0.6 0.8 1.  1.2 1.4 1.6 1.8 2.  2.2 2.4 2.6 2.8 3.  3.2 3.4\n",
            " 3.6 3.8 4.  4.2 4.4 4.6 4.8 5.  5.2 5.4 5.6 5.8 6.  6.2 6.4 6.6 6.8 7.\n",
            " 7.2 7.4 7.6 7.8 8.  8.2 8.4 8.6 8.8 9.  9.2 9.4 9.6 9.8]\n"
          ]
        }
      ]
    },
    {
      "cell_type": "code",
      "source": [
        "### Exercise4\n",
        "matrix1 = np.random.rand(5, 3)\n",
        "matrix2 = np.random.rand(3, 2)\n",
        "\n",
        "result = np.dot(matrix1, matrix2)\n",
        "\n",
        "print(matrix1)\n",
        "print(matrix2)\n",
        "print(result)"
      ],
      "metadata": {
        "colab": {
          "base_uri": "https://localhost:8080/"
        },
        "id": "qK418uj10gcz",
        "outputId": "3a175c67-f4b0-4e39-c62e-a01a2f41f6a9"
      },
      "execution_count": 6,
      "outputs": [
        {
          "output_type": "stream",
          "name": "stdout",
          "text": [
            "[[0.16721275 0.65795081 0.23677291]\n",
            " [0.72454099 0.74769279 0.283797  ]\n",
            " [0.22652808 0.90910417 0.35478171]\n",
            " [0.21793788 0.57394427 0.56020851]\n",
            " [0.19314684 0.14920726 0.36431008]]\n",
            "[[0.08343274 0.71916391]\n",
            " [0.46914885 0.92181722]\n",
            " [0.3910594  0.4281237 ]]\n",
            "[[0.41522015 0.82813185]\n",
            " [0.52221114 1.33180005]\n",
            " [0.58414575 1.15282916]\n",
            " [0.50652325 0.92564331]\n",
            " [0.22858206 0.43241584]]\n"
          ]
        }
      ]
    },
    {
      "cell_type": "code",
      "source": [
        "### Exercise 5\n",
        "matrix1 = np.array([[1, 2, 3],\n",
        "                    [4, 5, 6],\n",
        "                    [7, 8, 9],\n",
        "                    [10, 11, 12]])\n",
        "\n",
        "matrix2 = np.array([[2, 0],\n",
        "                    [1, 2],\n",
        "                    [3, 4]])\n",
        "\n",
        "result = np.dot(matrix1, matrix2)\n",
        "\n",
        "print(matrix1)\n",
        "print(matrix2)\n",
        "print(result)"
      ],
      "metadata": {
        "colab": {
          "base_uri": "https://localhost:8080/"
        },
        "id": "1SiluZ6D02o8",
        "outputId": "be59fad2-abea-41ad-cde8-fcd4ed22b992"
      },
      "execution_count": 7,
      "outputs": [
        {
          "output_type": "stream",
          "name": "stdout",
          "text": [
            "[[ 1  2  3]\n",
            " [ 4  5  6]\n",
            " [ 7  8  9]\n",
            " [10 11 12]]\n",
            "[[2 0]\n",
            " [1 2]\n",
            " [3 4]]\n",
            "[[13 16]\n",
            " [31 34]\n",
            " [49 52]\n",
            " [67 70]]\n"
          ]
        }
      ]
    }
  ]
}